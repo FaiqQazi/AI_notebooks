{
  "cells": [
    {
      "cell_type": "code",
      "execution_count": null,
      "metadata": {
        "id": "yeAKh5BrxXQN"
      },
      "outputs": [],
      "source": [
        "# import pandas as pd\n",
        "\n",
        "# # Load the dataset, handling potential errors\n",
        "# try:\n",
        "#     # Use 'on_bad_lines' instead of the deprecated 'error_bad_lines'\n",
        "#     df = pd.read_csv('/content/IMDB Dataset.csv', on_bad_lines='skip', quoting=3)  # Skip bad lines\n",
        "# except pd.errors.ParserError as e:\n",
        "#     print(f\"Error reading CSV: {e}\")\n",
        "#     # Attempt to extract row number from error message (may not always work)\n",
        "#     try:\n",
        "#         row_number = int(str(e).split('row ')[1].split(',')[0])\n",
        "#         print(f\"Problem likely around row: {row_number}\")\n",
        "#     except (IndexError, ValueError):\n",
        "#         print(\"Could not determine specific row number from the error.\")\n",
        "\n",
        "# # Basic EDA\n",
        "# if 'df' in locals():  # Proceed with EDA only if DataFrame was loaded successfully\n",
        "#     print(df.head())\n",
        "#     print(df['sentiment'].value_counts())\n",
        "\n",
        "\n",
        "import pandas as pd\n",
        "\n",
        "# Load the dataset, skipping bad lines\n",
        "df = pd.read_csv('/content/IMDB Dataset.csv')\n"
      ]
    },
    {
      "cell_type": "code",
      "execution_count": null,
      "metadata": {
        "colab": {
          "base_uri": "https://localhost:8080/"
        },
        "id": "xsf8ZY3r7u7X",
        "outputId": "617298c9-e41d-4dd6-8cdf-2a5c509d4e44"
      },
      "outputs": [
        {
          "name": "stdout",
          "output_type": "stream",
          "text": [
            "                                              review sentiment\n",
            "0  One of the other reviewers has mentioned that ...  positive\n",
            "1  A wonderful little production. <br /><br />The...  positive\n",
            "2  I thought this was a wonderful way to spend ti...  positive\n",
            "3  Basically there's a family where a little boy ...  negative\n",
            "4  Petter Mattei's \"Love in the Time of Money\" is...  positive\n",
            "5  Probably my all-time favorite movie, a story o...  positive\n",
            "6  I sure would like to see a resurrection of a u...  positive\n",
            "7  This show was an amazing, fresh & innovative i...  negative\n",
            "8  Encouraged by the positive comments about this...  negative\n",
            "9  If you like original gut wrenching laughter yo...  positive\n",
            "<class 'pandas.core.frame.DataFrame'>\n",
            "RangeIndex: 50000 entries, 0 to 49999\n",
            "Data columns (total 2 columns):\n",
            " #   Column     Non-Null Count  Dtype \n",
            "---  ------     --------------  ----- \n",
            " 0   review     50000 non-null  object\n",
            " 1   sentiment  50000 non-null  object\n",
            "dtypes: object(2)\n",
            "memory usage: 781.4+ KB\n",
            "None\n",
            "                                                   review sentiment\n",
            "count                                               50000     50000\n",
            "unique                                              49582         2\n",
            "top     Loved today's show!!! It was a variety and not...  positive\n",
            "freq                                                    5     25000\n"
          ]
        }
      ],
      "source": [
        "print(df.head(10))  # View the first 10 rows\n",
        "print(df.info())     # Get information about data types and non-null counts\n",
        "print(df.describe())  # Get summary statistics for numerical columns (if any)"
      ]
    },
    {
      "cell_type": "code",
      "execution_count": null,
      "metadata": {
        "colab": {
          "base_uri": "https://localhost:8080/"
        },
        "id": "HYg410riH1NP",
        "outputId": "0a5e1dbc-8153-47fc-d18f-53188c940482"
      },
      "outputs": [
        {
          "name": "stdout",
          "output_type": "stream",
          "text": [
            "Series([], dtype: int64)\n"
          ]
        }
      ],
      "source": [
        "missing_values = df.isnull().sum()\n",
        "print(missing_values[missing_values > 0])  # Display only columns with missing values"
      ]
    },
    {
      "cell_type": "code",
      "execution_count": null,
      "metadata": {
        "colab": {
          "base_uri": "https://localhost:8080/"
        },
        "id": "dt38ZljjJgTi",
        "outputId": "e466aebd-c4ae-4b29-eea8-0847d6b52ddf"
      },
      "outputs": [
        {
          "name": "stdout",
          "output_type": "stream",
          "text": [
            "sentiment\n",
            "positive    25000\n",
            "negative    25000\n",
            "Name: count, dtype: int64\n"
          ]
        }
      ],
      "source": [
        "sentiment_counts = df['sentiment'].value_counts()\n",
        "print(sentiment_counts)"
      ]
    },
    {
      "cell_type": "code",
      "execution_count": null,
      "metadata": {
        "colab": {
          "base_uri": "https://localhost:8080/",
          "height": 594
        },
        "id": "zv7MJssdJ74R",
        "outputId": "e8e509e1-23ce-4442-ef76-6de55cdd3d51"
      },
      "outputs": [
        {
          "name": "stdout",
          "output_type": "stream",
          "text": [
            "count    50000.000000\n",
            "mean      1309.431020\n",
            "std        989.728014\n",
            "min         32.000000\n",
            "25%        699.000000\n",
            "50%        970.000000\n",
            "75%       1590.250000\n",
            "max      13704.000000\n",
            "Name: review_length, dtype: float64\n"
          ]
        },
        {
          "data": {
            "image/png": "[encoded data removed]",
            "text/plain": [
              "<Figure size 1000x600 with 1 Axes>"
            ]
          },
          "metadata": {},
          "output_type": "display_data"
        }
      ],
      "source": [
        "import matplotlib.pyplot as plt\n",
        "df['review'] = df['review'].astype(str)\n",
        "df['review_length'] = df['review'].apply(len)\n",
        "print(df['review_length'].describe())  # Summary statistics for review lengths\n",
        "\n",
        "# Visualization\n",
        "import matplotlib.pyplot as plt\n",
        "import seaborn as sns\n",
        "\n",
        "plt.figure(figsize=(10, 6))\n",
        "sns.histplot(df['review_length'], bins=50, kde=True)\n",
        "plt.title('Distribution of Review Lengths')\n",
        "plt.xlabel('Length of Review')\n",
        "plt.ylabel('Frequency')\n",
        "plt.show()"
      ]
    },
    {
      "cell_type": "code",
      "execution_count": null,
      "metadata": {
        "colab": {
          "base_uri": "https://localhost:8080/"
        },
        "id": "xsMVzUrbbtu7",
        "outputId": "7ccbdaeb-64cd-4362-cc51-974a7024ba38"
      },
      "outputs": [
        {
          "name": "stdout",
          "output_type": "stream",
          "text": [
            "After lowercasing:\n",
            " 0    one of the other reviewers has mentioned that ...\n",
            "1    a wonderful little production. <br /><br />the...\n",
            "2    i thought this was a wonderful way to spend ti...\n",
            "3    basically there's a family where a little boy ...\n",
            "4    petter mattei's \"love in the time of money\" is...\n",
            "Name: review, dtype: object\n"
          ]
        }
      ],
      "source": [
        "# Convert reviews to lowercase\n",
        "df['review'] = df['review'].str.lower()\n",
        "print(\"After lowercasing:\\n\", df['review'].head())"
      ]
    },
    {
      "cell_type": "code",
      "execution_count": null,
      "metadata": {
        "colab": {
          "base_uri": "https://localhost:8080/"
        },
        "id": "lkR3gao3cfXy",
        "outputId": "8da47d7a-844b-4bb5-92fd-fdebdf3ece99"
      },
      "outputs": [
        {
          "name": "stderr",
          "output_type": "stream",
          "text": [
            "<ipython-input-30-5d27e10eeb19>:5: MarkupResemblesLocatorWarning: The input looks more like a filename than markup. You may want to open this file and pass the filehandle into Beautiful Soup.\n",
            "  return BeautifulSoup(text, \"html.parser\").get_text()\n"
          ]
        },
        {
          "name": "stdout",
          "output_type": "stream",
          "text": [
            "After removing HTML tags:\n",
            " 0    one of the other reviewers has mentioned that ...\n",
            "1    a wonderful little production. the filming tec...\n",
            "2    i thought this was a wonderful way to spend ti...\n",
            "3    basically there's a family where a little boy ...\n",
            "4    petter mattei's \"love in the time of money\" is...\n",
            "Name: review, dtype: object\n"
          ]
        }
      ],
      "source": [
        "from bs4 import BeautifulSoup\n",
        "\n",
        "# Function to remove HTML tags\n",
        "def remove_html(text):\n",
        "    return BeautifulSoup(text, \"html.parser\").get_text()\n",
        "\n",
        "df['review'] = df['review'].apply(remove_html)\n",
        "print(\"After removing HTML tags:\\n\", df['review'].head())"
      ]
    },
    {
      "cell_type": "code",
      "execution_count": null,
      "metadata": {
        "colab": {
          "base_uri": "https://localhost:8080/"
        },
        "id": "oOAZ0iNodWKd",
        "outputId": "73fb4360-05bd-4374-d316-222f45289d29"
      },
      "outputs": [
        {
          "name": "stderr",
          "output_type": "stream",
          "text": [
            "<ipython-input-31-073fe3454cd1>:5: MarkupResemblesLocatorWarning: The input looks more like a filename than markup. You may want to open this file and pass the filehandle into Beautiful Soup.\n",
            "  soup = BeautifulSoup(text, \"html.parser\")\n"
          ]
        },
        {
          "name": "stdout",
          "output_type": "stream",
          "text": [
            "Rows with <p> tags:\n",
            " Empty DataFrame\n",
            "Columns: [review, sentiment, review_length, has_p_tag]\n",
            "Index: []\n"
          ]
        }
      ],
      "source": [
        "from bs4 import BeautifulSoup\n",
        "\n",
        "# Function to check for a specific HTML tag\n",
        "def find_tag(text, tag):\n",
        "    soup = BeautifulSoup(text, \"html.parser\")\n",
        "    return soup.find(tag) is not None\n",
        "# Check for the presence of a specific tag in the 'review' column\n",
        "df['has_p_tag'] = df['review'].apply(lambda x: find_tag(x, 'p'))\n",
        "\n",
        "# Print the rows where the tag is found\n",
        "print(\"Rows with <p> tags:\\n\", df[df['has_p_tag']])\n"
      ]
    },
    {
      "cell_type": "code",
      "execution_count": null,
      "metadata": {
        "colab": {
          "base_uri": "https://localhost:8080/"
        },
        "id": "4tRnuZqsO1SO",
        "outputId": "9b27d9da-37b4-4081-e53d-6e118d414d0b"
      },
      "outputs": [
        {
          "name": "stdout",
          "output_type": "stream",
          "text": [
            "Index(['review', 'sentiment', 'review_length', 'has_p_tag'], dtype='object')\n"
          ]
        }
      ],
      "source": [
        "print (df.columns)"
      ]
    },
    {
      "cell_type": "code",
      "execution_count": null,
      "metadata": {
        "colab": {
          "base_uri": "https://localhost:8080/"
        },
        "collapsed": true,
        "id": "6LS-wtAYdc7c",
        "outputId": "6f94c63a-31f4-4599-aee8-9d7bd734068c"
      },
      "outputs": [
        {
          "name": "stdout",
          "output_type": "stream",
          "text": [
            "After removing punctuation:\n",
            " 0    one of the other reviewers has mentioned that ...\n",
            "1    a wonderful little production the filming tech...\n",
            "2    i thought this was a wonderful way to spend ti...\n",
            "3    basically theres a family where a little boy j...\n",
            "4    petter matteis love in the time of money is a ...\n",
            "Name: review, dtype: object\n"
          ]
        },
        {
          "name": "stderr",
          "output_type": "stream",
          "text": [
            "[nltk_data] Downloading package stopwords to /root/nltk_data...\n",
            "[nltk_data]   Package stopwords is already up-to-date!\n"
          ]
        },
        {
          "name": "stdout",
          "output_type": "stream",
          "text": [
            "After removing stopwords:\n",
            " 0    one reviewers mentioned watching 1 oz episode ...\n",
            "1    wonderful little production filming technique ...\n",
            "2    thought wonderful way spend time hot summer we...\n",
            "3    basically theres family little boy jake thinks...\n",
            "4    petter matteis love time money visually stunni...\n",
            "Name: review, dtype: object\n",
            "After tokenization:\n",
            "                                               review\n",
            "0  [one, reviewers, mentioned, watching, 1, oz, e...\n",
            "1  [wonderful, little, production, filming, techn...\n",
            "2  [thought, wonderful, way, spend, time, hot, su...\n",
            "3  [basically, theres, family, little, boy, jake,...\n",
            "4  [petter, matteis, love, time, money, visually,...\n",
            "Review lengths after preprocessing:\n",
            "        cleaned_review_length\n",
            "count           50000.000000\n",
            "mean              119.857060\n",
            "std                90.098325\n",
            "min                 3.000000\n",
            "25%                64.000000\n",
            "50%                89.000000\n",
            "75%               146.000000\n",
            "max              1429.000000\n"
          ]
        }
      ],
      "source": [
        "import pandas as pd\n",
        "from bs4 import BeautifulSoup\n",
        "import string\n",
        "import nltk\n",
        "from nltk.corpus import stopwords\n",
        "from nltk.stem import PorterStemmer\n",
        "\n",
        "# ... (Your previous code to load and preprocess data)\n",
        "\n",
        "# Ensure 'review' column contains strings before applying .str\n",
        "df['review'] = df['review'].astype(str)  # Convert to string type\n",
        "\n",
        "df['review'] = df['review'].str.translate(str.maketrans('', '', string.punctuation))\n",
        "print(\"After removing punctuation:\\n\", df['review'].head())\n",
        "\n",
        "# Step 4: Removing Stopwords\n",
        "nltk.download('stopwords')\n",
        "stop_words = set(stopwords.words('english'))\n",
        "df['review'] = df['review'].apply(lambda x: ' '.join([word for word in x.split() if word not in stop_words]))\n",
        "print(\"After removing stopwords:\\n\", df['review'].head())\n",
        "# Step 5: Tokenization\n",
        "df['review'] = df['review'].apply(lambda x: x.split())\n",
        "print(\"After tokenization:\\n\", df[['review']].head()) # Changed line to only select the 'review' column\n",
        "#Instead of df[['review','tokens']] only review is used, as that is the only relevant column name.\n",
        "\n",
        "\n",
        "# Final Review Length Check\n",
        "df['cleaned_review_length'] = df['review'].apply(len)\n",
        "print(\"Review lengths after preprocessing:\\n\", df[['cleaned_review_length']].describe())"
      ]
    },
    {
      "cell_type": "code",
      "execution_count": null,
      "metadata": {
        "colab": {
          "base_uri": "https://localhost:8080/"
        },
        "id": "e1gfq7x6hOia",
        "outputId": "471e071a-eebd-4c6d-deba-dc5e20301d84"
      },
      "outputs": [
        {
          "name": "stdout",
          "output_type": "stream",
          "text": [
            "Encoded Sentiment Sample:\n",
            "                                              review sentiment  label\n",
            "0  [one, reviewers, mentioned, watching, 1, oz, e...  positive      1\n",
            "1  [wonderful, little, production, filming, techn...  positive      1\n",
            "2  [thought, wonderful, way, spend, time, hot, su...  positive      1\n",
            "3  [basically, theres, family, little, boy, jake,...  negative      0\n",
            "4  [petter, matteis, love, time, money, visually,...  positive      1\n"
          ]
        }
      ],
      "source": [
        "# Encode the sentiment labels (positive = 1, negative = 0)\n",
        "df['label'] = df['sentiment'].map({'positive': 1, 'negative': 0})\n",
        "\n",
        "# Verify the encoding\n",
        "print(\"Encoded Sentiment Sample:\")\n",
        "print(df[['review', 'sentiment', 'label']].head())\n"
      ]
    },
    {
      "cell_type": "code",
      "execution_count": null,
      "metadata": {
        "colab": {
          "base_uri": "https://localhost:8080/"
        },
        "id": "G3Ai6iLQhext",
        "outputId": "34f0904b-86cc-4b1d-b954-2ca0308e1602"
      },
      "outputs": [
        {
          "name": "stdout",
          "output_type": "stream",
          "text": [
            "Training Data Size: 40000 reviews\n",
            "Testing Data Size: 10000 reviews\n",
            "39087    [thats, kept, asking, many, fights, screaming,...\n",
            "30893    [watch, entire, movie, could, watch, entire, m...\n",
            "45278    [touching, love, story, reminiscent, in, mood...\n",
            "16398    [latterday, fulci, schlocker, totally, abysmal...\n",
            "13653    [first, firmly, believe, norwegian, movies, co...\n",
            "                               ...                        \n",
            "11284    [shadow, magic, recaptures, joy, amazement, fi...\n",
            "44732    [found, movie, quite, enjoyable, fairly, enter...\n",
            "38158    [avoid, one, terrible, movie, exciting, pointl...\n",
            "860      [production, quite, surprise, absolutely, love...\n",
            "15795    [decent, movie, although, little, bit, short, ...\n",
            "Name: review, Length: 40000, dtype: object\n",
            "33553    [really, liked, summerslam, due, look, arena, ...\n",
            "9427     [many, television, shows, appeal, quite, many,...\n",
            "199      [film, quickly, gets, major, chase, scene, eve...\n",
            "12447    [jane, austen, would, definitely, approve, one...\n",
            "39489    [expectations, somewhat, high, went, see, movi...\n",
            "                               ...                        \n",
            "28567    [although, casper, van, dien, michael, rooker,...\n",
            "25079    [liked, movie, wasnt, really, sure, started, w...\n",
            "18707    [yes, nonsingaporeans, cant, see, whats, big, ...\n",
            "15200    [far, films, go, likable, enough, entertaining...\n",
            "5857     [saw, anatomy, years, ago, dubbed, friends, ho...\n",
            "Name: review, Length: 10000, dtype: object\n",
            "39087    0\n",
            "30893    0\n",
            "45278    1\n",
            "16398    0\n",
            "13653    0\n",
            "        ..\n",
            "11284    1\n",
            "44732    1\n",
            "38158    0\n",
            "860      1\n",
            "15795    1\n",
            "Name: label, Length: 40000, dtype: int64\n",
            "33553    1\n",
            "9427     1\n",
            "199      0\n",
            "12447    1\n",
            "39489    0\n",
            "        ..\n",
            "28567    0\n",
            "25079    1\n",
            "18707    1\n",
            "15200    0\n",
            "5857     1\n",
            "Name: label, Length: 10000, dtype: int64\n"
          ]
        }
      ],
      "source": [
        "from sklearn.model_selection import train_test_split\n",
        "\n",
        "# Split the data (80% training, 20% testing)\n",
        "X = df['review']\n",
        "y = df['label']\n",
        "X_train, X_test, y_train, y_test = train_test_split(X, y, test_size=0.2, random_state=42)\n",
        "\n",
        "print(f\"Training Data Size: {len(X_train)} reviews\")\n",
        "print(f\"Testing Data Size: {len(X_test)} reviews\")\n",
        "print (X_train)\n",
        "print (X_test)\n",
        "print (y_train)\n",
        "print (y_test)\n"
      ]
    },
    {
      "cell_type": "code",
      "execution_count": null,
      "metadata": {
        "colab": {
          "base_uri": "https://localhost:8080/"
        },
        "id": "4vzUcZX-ikJC",
        "outputId": "8c75c552-095a-4571-ed6e-4521935e35f7"
      },
      "outputs": [
        {
          "name": "stdout",
          "output_type": "stream",
          "text": [
            "Bag of Words - Training Data (Top 10 Rows):\n",
            "   10  100  1010  11  110  12  13  13th  14  15  ...  youll  young  younger  \\\n",
            "0   0    0     0   0    0   0   0     0   0   0  ...      0      0        0   \n",
            "1   0    0     0   0    0   0   0     0   0   0  ...      0      0        0   \n",
            "2   0    0     0   0    0   0   0     0   0   0  ...      0      0        0   \n",
            "3   0    0     0   0    0   0   0     0   0   0  ...      0      0        0   \n",
            "4   0    0     0   0    0   0   0     0   0   0  ...      0      0        0   \n",
            "5   0    0     0   0    0   0   0     0   0   0  ...      1      0        0   \n",
            "6   0    0     0   0    0   0   0     0   0   0  ...      0      0        0   \n",
            "7   1    0     0   0    0   0   0     0   0   0  ...      0      0        0   \n",
            "8   0    0     0   0    0   0   0     0   0   0  ...      0      0        0   \n",
            "9   0    0     0   0    0   0   0     0   0   0  ...      1      0        0   \n",
            "\n",
            "   youre  youth  youve  zero  zombie  zombies  zone  \n",
            "0      0      0      0     0       0        0     0  \n",
            "1      0      0      0     0       0        0     0  \n",
            "2      0      0      0     0       0        0     0  \n",
            "3      0      0      0     0       0        0     0  \n",
            "4      0      0      0     0       0        0     0  \n",
            "5      1      0      0     0       0        0     0  \n",
            "6      0      0      0     0       0        0     0  \n",
            "7      0      0      0     0       0        0     0  \n",
            "8      0      0      0     0       0        0     0  \n",
            "9      0      0      0     0       0        0     0  \n",
            "\n",
            "[10 rows x 5000 columns]\n",
            "\n",
            "Shape of the BoW matrix (Training): (40000, 5000)\n",
            "Shape of the BoW matrix (Testing): (10000, 5000)\n",
            "\n",
            "Naive Bayes (Bag of Words) Performance:\n",
            "Accuracy: 0.8495\n",
            "              precision    recall  f1-score   support\n",
            "\n",
            "           0       0.85      0.85      0.85      4961\n",
            "           1       0.85      0.85      0.85      5039\n",
            "\n",
            "    accuracy                           0.85     10000\n",
            "   macro avg       0.85      0.85      0.85     10000\n",
            "weighted avg       0.85      0.85      0.85     10000\n",
            "\n"
          ]
        }
      ],
      "source": [
        "from sklearn.feature_extraction.text import CountVectorizer\n",
        "from sklearn.naive_bayes import MultinomialNB\n",
        "from sklearn.metrics import accuracy_score, classification_report\n",
        "import pandas as pd\n",
        "\n",
        "# Join tokenized words back into sentences\n",
        "X_train_str = X_train.apply(lambda x: ' '.join(x))\n",
        "X_test_str = X_test.apply(lambda x: ' '.join(x))\n",
        "\n",
        "# Initialize CountVectorizer\n",
        "vectorizer = CountVectorizer(max_features=5000)\n",
        "X_train_bow = vectorizer.fit_transform(X_train_str)\n",
        "X_test_bow = vectorizer.transform(X_test_str)\n",
        "\n",
        "# Convert the sparse matrix to a dense DataFrame for better readability\n",
        "X_train_bow_df = pd.DataFrame(X_train_bow.toarray(), columns=vectorizer.get_feature_names_out())\n",
        "X_test_bow_df = pd.DataFrame(X_test_bow.toarray(), columns=vectorizer.get_feature_names_out())\n",
        "\n",
        "# Print the entire Bag of Words matrix\n",
        "print(\"Bag of Words - Training Data (Top 10 Rows):\")\n",
        "print(X_train_bow_df.head(10))  # Display the first 10 rows for readability\n",
        "\n",
        "# Print the shape of the BoW matrix\n",
        "print(\"\\nShape of the BoW matrix (Training):\", X_train_bow.shape)\n",
        "print(\"Shape of the BoW matrix (Testing):\", X_test_bow.shape)\n",
        "\n",
        "# Train Naive Bayes model\n",
        "nb_model = MultinomialNB()\n",
        "nb_model.fit(X_train_bow, y_train)\n",
        "\n",
        "# Make predictions\n",
        "y_pred_bow = nb_model.predict(X_test_bow)\n",
        "\n",
        "# Evaluate the model\n",
        "print(\"\\nNaive Bayes (Bag of Words) Performance:\")\n",
        "print(f\"Accuracy: {accuracy_score(y_test, y_pred_bow):.4f}\")\n",
        "print(classification_report(y_test, y_pred_bow))\n"
      ]
    },
    {
      "cell_type": "code",
      "execution_count": null,
      "metadata": {
        "colab": {
          "background_save": true,
          "base_uri": "https://localhost:8080/"
        },
        "id": "uj6sKgQJm0YW",
        "outputId": "7cdf5013-9720-4ed2-c8ee-4da068fdc7c8"
      },
      "outputs": [
        {
          "name": "stdout",
          "output_type": "stream",
          "text": [
            "before making the chnages the x_train\n",
            "39087    [thats, kept, asking, many, fights, screaming,...\n",
            "30893    [watch, entire, movie, could, watch, entire, m...\n",
            "45278    [touching, love, story, reminiscent, in, mood...\n",
            "16398    [latterday, fulci, schlocker, totally, abysmal...\n",
            "13653    [first, firmly, believe, norwegian, movies, co...\n",
            "                               ...                        \n",
            "11284    [shadow, magic, recaptures, joy, amazement, fi...\n",
            "44732    [found, movie, quite, enjoyable, fairly, enter...\n",
            "38158    [avoid, one, terrible, movie, exciting, pointl...\n",
            "860      [production, quite, surprise, absolutely, love...\n",
            "15795    [decent, movie, although, little, bit, short, ...\n",
            "Name: review, Length: 40000, dtype: object\n",
            "after making the changes the x_train\n",
            "39087    thats kept asking many fights screaming matche...\n",
            "30893    watch entire movie could watch entire movie st...\n",
            "45278    touching love story reminiscent in mood love ...\n",
            "16398    latterday fulci schlocker totally abysmal conc...\n",
            "13653    first firmly believe norwegian movies continua...\n",
            "                               ...                        \n",
            "11284    shadow magic recaptures joy amazement first mo...\n",
            "44732    found movie quite enjoyable fairly entertainin...\n",
            "38158    avoid one terrible movie exciting pointless mu...\n",
            "860      production quite surprise absolutely love obsc...\n",
            "15795    decent movie although little bit short time pa...\n",
            "Name: review, Length: 40000, dtype: object\n",
            "before making the chnages the x_test\n",
            "33553    [really, liked, summerslam, due, look, arena, ...\n",
            "9427     [many, television, shows, appeal, quite, many,...\n",
            "199      [film, quickly, gets, major, chase, scene, eve...\n",
            "12447    [jane, austen, would, definitely, approve, one...\n",
            "39489    [expectations, somewhat, high, went, see, movi...\n",
            "                               ...                        \n",
            "28567    [although, casper, van, dien, michael, rooker,...\n",
            "25079    [liked, movie, wasnt, really, sure, started, w...\n",
            "18707    [yes, nonsingaporeans, cant, see, whats, big, ...\n",
            "15200    [far, films, go, likable, enough, entertaining...\n",
            "5857     [saw, anatomy, years, ago, dubbed, friends, ho...\n",
            "Name: review, Length: 10000, dtype: object\n",
            "after making the changes the x_test\n",
            "33553    really liked summerslam due look arena curtain...\n",
            "9427     many television shows appeal quite many differ...\n",
            "199      film quickly gets major chase scene ever incre...\n",
            "12447    jane austen would definitely approve onegwynet...\n",
            "39489    expectations somewhat high went see movie thou...\n",
            "                               ...                        \n",
            "28567    although casper van dien michael rooker genera...\n",
            "25079    liked movie wasnt really sure started watching...\n",
            "18707    yes nonsingaporeans cant see whats big deal fi...\n",
            "15200    far films go likable enough entertaining chara...\n",
            "5857     saw anatomy years ago dubbed friends house don...\n",
            "Name: review, Length: 10000, dtype: object\n",
            "Initialized TF-IDF Vectorizer with max_features=5000.\n",
            "\n",
            "TF-IDF Transformation on Training Data Complete:\n",
            "Shape of Training Data TF-IDF Matrix: (40000, 5000)\n",
            "TF-IDF Training Data Sample Values (Dense Format):\n",
            "[[0. 0. 0. ... 0. 0. 0.]\n",
            " [0. 0. 0. ... 0. 0. 0.]\n",
            " [0. 0. 0. ... 0. 0. 0.]\n",
            " ...\n",
            " [0. 0. 0. ... 0. 0. 0.]\n",
            " [0. 0. 0. ... 0. 0. 0.]\n",
            " [0. 0. 0. ... 0. 0. 0.]]\n",
            "\n",
            "TF-IDF Transformation on Test Data Complete:\n",
            "Shape of Test Data TF-IDF Matrix: (10000, 5000)\n",
            "TF-IDF Test Data Sample Values (Dense Format):\n",
            "[[0. 0. 0. ... 0. 0. 0.]\n",
            " [0. 0. 0. ... 0. 0. 0.]\n",
            " [0. 0. 0. ... 0. 0. 0.]\n",
            " ...\n",
            " [0. 0. 0. ... 0. 0. 0.]\n",
            " [0. 0. 0. ... 0. 0. 0.]\n",
            " [0. 0. 0. ... 0. 0. 0.]]\n",
            "\n",
            "Initialized SVM Model with Linear Kernel.\n",
            "SVM Model Training Complete.\n",
            "\n",
            "Predictions Made on Test Data:\n",
            "Predicted Labels: [0 1 0 ... 1 0 1]\n",
            "\n",
            "Evaluation of SVM (TF-IDF) Model Performance:\n",
            "Accuracy: 0.8858\n",
            "Classification Report:\n",
            "              precision    recall  f1-score   support\n",
            "\n",
            "           0       0.89      0.87      0.88      4961\n",
            "           1       0.88      0.90      0.89      5039\n",
            "\n",
            "    accuracy                           0.89     10000\n",
            "   macro avg       0.89      0.89      0.89     10000\n",
            "weighted avg       0.89      0.89      0.89     10000\n",
            "\n"
          ]
        }
      ],
      "source": [
        "from sklearn.feature_extraction.text import TfidfVectorizer\n",
        "from sklearn.svm import SVC\n",
        "from sklearn.metrics import accuracy_score, classification_report\n",
        "print(\"before making the chnages the x_train\")\n",
        "print(X_train)\n",
        "print(\"after making the changes the x_train\")\n",
        "print(X_train_str)\n",
        "print(\"before making the chnages the x_test\")\n",
        "print(X_test)\n",
        "print(\"after making the changes the x_test\")\n",
        "print(X_test_str)\n",
        "# Step 1: Initialize TF-IDF Vectorizer\n",
        "tfidf_vectorizer = TfidfVectorizer(max_features=5000)\n",
        "print(\"Initialized TF-IDF Vectorizer with max_features=5000.\")\n",
        "\n",
        "# Step 2: Transform training data\n",
        "X_train_tfidf = tfidf_vectorizer.fit_transform(X_train_str)\n",
        "print(\"\\nTF-IDF Transformation on Training Data Complete:\")\n",
        "print(f\"Shape of Training Data TF-IDF Matrix: {X_train_tfidf.shape}\")  # Shape of training TF-IDF matrix\n",
        "print(\"TF-IDF Training Data Sample Values (Dense Format):\")\n",
        "print(X_train_tfidf.toarray())  # Print TF-IDF values for training data\n",
        "\n",
        "# Step 3: Transform test data\n",
        "X_test_tfidf = tfidf_vectorizer.transform(X_test_str)\n",
        "print(\"\\nTF-IDF Transformation on Test Data Complete:\")\n",
        "print(f\"Shape of Test Data TF-IDF Matrix: {X_test_tfidf.shape}\")  # Shape of test TF-IDF matrix\n",
        "print(\"TF-IDF Test Data Sample Values (Dense Format):\")\n",
        "print(X_test_tfidf.toarray())  # Print TF-IDF values for test data\n",
        "\n",
        "# Step 4: Train SVM model\n",
        "svm_model = SVC(kernel='linear', probability=True)\n",
        "print(\"\\nInitialized SVM Model with Linear Kernel.\")\n",
        "svm_model.fit(X_train_tfidf, y_train)\n",
        "print(\"SVM Model Training Complete.\")\n",
        "\n",
        "# Step 5: Make predictions\n",
        "y_pred_tfidf = svm_model.predict(X_test_tfidf)\n",
        "print(\"\\nPredictions Made on Test Data:\")\n",
        "print(\"Predicted Labels:\", y_pred_tfidf)\n",
        "\n",
        "# Step 6: Evaluate the model\n",
        "accuracy = accuracy_score(y_test, y_pred_tfidf)\n",
        "print(\"\\nEvaluation of SVM (TF-IDF) Model Performance:\")\n",
        "print(f\"Accuracy: {accuracy:.4f}\")\n",
        "print(\"Classification Report:\")\n",
        "print(classification_report(y_test, y_pred_tfidf))\n"
      ]
    },
    {
      "cell_type": "code",
      "execution_count": null,
      "metadata": {
        "id": "BWNGGS0FQYYC"
      },
      "outputs": [],
      "source": [
        "from wordcloud import WordCloud\n",
        "\n",
        "all_reviews = ' '.join(df['review'])\n",
        "wordcloud = WordCloud(width=800, height=400, background_color='white').generate(all_reviews)\n",
        "\n",
        "plt.figure(figsize=(10, 6))\n",
        "plt.imshow(wordcloud, interpolation='bilinear')\n",
        "plt.axis('off')\n",
        "plt.title('Word Cloud of Movie Reviews')\n",
        "plt.show()"
      ]
    }
  ],
  "metadata": {
    "colab": {
      "provenance": []
    },
    "kernelspec": {
      "display_name": "Python 3",
      "name": "python3"
    },
    "language_info": {
      "name": "python"
    }
  },
  "nbformat": 4,
  "nbformat_minor": 0
}